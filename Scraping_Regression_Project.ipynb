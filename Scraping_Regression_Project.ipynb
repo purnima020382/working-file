{
 "cells": [
  {
   "cell_type": "markdown",
   "metadata": {},
   "source": [
    "# Prediction of Prices of Used Cars Using Polynomial Regression"
   ]
  },
  {
   "cell_type": "markdown",
   "metadata": {},
   "source": [
    "## DATA SCRAPING\n",
    "- The data is being scraped from www.cars.com\n",
    "- This is a well structured source for used car listings and is generous to scrapers\n",
    "- Check www.cars.com/robots.txt for more information on what the website allows"
   ]
  },
  {
   "cell_type": "markdown",
   "metadata": {},
   "source": [
    "### Package Imports:"
   ]
  },
  {
   "cell_type": "code",
   "execution_count": 237,
   "metadata": {},
   "outputs": [],
   "source": [
    "from __future__ import print_function, division\n",
    "import requests\n",
    "from bs4 import BeautifulSoup\n",
    "from pprint import pprint\n",
    "import re\n",
    "import pandas as pd\n",
    "import os\n",
    "import datetime\n",
    "import numpy as np\n",
    "\n",
    "import matplotlib\n",
    "import matplotlib.pyplot as plt\n",
    "import seaborn as sns\n",
    "plt.style.use('seaborn')\n",
    "from yellowbrick.regressor import ResidualsPlot\n",
    "\n",
    "from sklearn.pipeline import Pipeline\n",
    "from sklearn.preprocessing import StandardScaler\n",
    "from sklearn.preprocessing import PolynomialFeatures\n",
    "from sklearn.linear_model import LinearRegression, Lasso, LassoCV, Ridge, RidgeCV\n",
    "from sklearn.model_selection import train_test_split\n",
    "\n",
    "import warnings\n",
    "warnings.filterwarnings('ignore')"
   ]
  },
  {
   "cell_type": "markdown",
   "metadata": {},
   "source": [
    "#### Let's take a moment to think about this problem from the perspective of the end-user. If you were to buy a car, what are the key metrics you would look for?\n",
    "\n",
    "Well, off the top of my head, I'd definitely want to know how old the car is, the number of miles on it, the brand, transmission, drivetrain, engine capacity and the interior/exterior color.\n",
    "\n",
    "#### Let's code them up!"
   ]
  },
  {
   "cell_type": "code",
   "execution_count": 162,
   "metadata": {},
   "outputs": [],
   "source": [
    "#initializing all lists where each list is a feature\n",
    "names = [] #The year of manufacture is embedded in the name and we'll have to extract it using a regex\n",
    "prices = []\n",
    "miles = []\n",
    "transmissions = []\n",
    "drivetrains = []\n",
    "ext_colors = []\n",
    "int_colors = []\n",
    "engine_caps = []\n",
    "\n",
    "#We'll also need the following regex to extract a few of the features\n",
    "myreg = re.compile(' [A-Za-z]*\\\\n')\n"
   ]
  },
  {
   "cell_type": "markdown",
   "metadata": {},
   "source": [
    "#### Before we begin web-scraping, let's pause and look at how the data is structured in the website. \n",
    "#### Here's a sample page: https://www.cars.com/for-sale/searchresults.action/?bsId=20211&cpoId=28444&page=36&perPage=100&rd=99999&searchSource=GN_REFINEMENT&shippable-dealers-checkbox=true&showMore=true&sort=relevance&zc=10016&userSetIxt=true&localVehicles=false'\n",
    "\n",
    "#### Looks like most of the data we need is available in the listing overview, but it looks like we'll have to look into each listing to find the engine capacity. \n",
    "#### Here's what an individual listing looks like: https://www.cars.com/vehicledetail/detail/754073883/overview/\n"
   ]
  },
  {
   "cell_type": "markdown",
   "metadata": {},
   "source": [
    "#### To implement an MVP, let's scrape the first 50 pages with 100 listings per page.\n",
    "It looks like the website is hardcoded to give us only 50 pages and a maximum of 100 listings per page. To circumvent this, we'll have to use filters independent of each other to get the listings we can't access traditionally. That part is beyond the scope of the project at the moment, so let's limit our search to the first 5000 listings of sedans."
   ]
  },
  {
   "cell_type": "code",
   "execution_count": 163,
   "metadata": {
    "scrolled": true
   },
   "outputs": [],
   "source": [
    "index = -1\n",
    "#Iterate through all 50 pages\n",
    "for _ in range(1, 51):\n",
    "    #print (_)\n",
    "    url = 'https://www.cars.com/for-sale/searchresults.action/?bsId=20211&cpoId=28444&page={}&perPage=100&rd=99999&searchSource=GN_REFINEMENT&shippable-dealers-checkbox=true&showMore=true&sort=relevance&zc=10016&userSetIxt=true&localVehicles=false'\n",
    "    url = url.format(_)\n",
    "    #print(url)\n",
    "    response = requests.get(url)\n",
    "    #print(response)\n",
    "    sauce = response.text\n",
    "    soup = BeautifulSoup(sauce)\n",
    "    pre_names = soup.findAll('h2',{'class':'listing-row__title'})\n",
    "    for name in pre_names:\n",
    "        names.append(name.text.strip())\n",
    "    pre_price = soup.findAll('span', {'class':'listing-row__price'})\n",
    "    for price in pre_price:\n",
    "        prices.append(price.text.strip())\n",
    "    pre_miles = soup.findAll('span', {'class':'listing-row__mileage'})\n",
    "    for mile in pre_miles:\n",
    "        miles.append(mile.text.strip())\n",
    "    pre_stats = soup.findAll('ul', {'class':'listing-row__meta'})\n",
    "    for i in pre_stats:\n",
    "        ext_colors.append(myreg.findall(i.contents[1].text)[0].strip())\n",
    "        int_colors.append(myreg.findall(i.contents[3].text)[0].strip())\n",
    "        transmissions.append(myreg.findall(i.contents[5].text)[0].strip())\n",
    "        drivetrains.append(myreg.findall(i.contents[7].text)[0].strip())\n",
    "        #print('end')\n",
    "    #The following code is to get the engine capacity value\n",
    "    #Get all listing links per page\n",
    "    pre_links = soup.findAll('a', {'class':'shop-srp-listings__listing'})\n",
    "    #index = -1\n",
    "    #Open each link to get the required data\n",
    "    for link in pre_links:\n",
    "        index+=1\n",
    "        listing_link = ('https://www.cars.com%s'%link.get('href'))\n",
    "        #print(listing_link)\n",
    "        response1 = requests.get(listing_link)\n",
    "        #print(response1)\n",
    "        sauce1 = response1.text\n",
    "        soup1 = BeautifulSoup(sauce1)\n",
    "        pre_enginecap = soup1.findAll('li', {'class':'vdp-details-basics__item'})\n",
    "        for i in pre_enginecap:\n",
    "            flag = 0\n",
    "            if 'Eng' in i.text.strip():\n",
    "                engine_caps.append(i.text.strip())\n",
    "                #print(i.text.strip())\n",
    "        if index == len(engine_caps):\n",
    "            engine_caps.append('NaN')\n",
    "            \n"
   ]
  },
  {
   "cell_type": "markdown",
   "metadata": {},
   "source": [
    "#### Finally, we have our required features and target. Let's quickly check that we haven't missed any values (which could upset the order of the data):"
   ]
  },
  {
   "cell_type": "code",
   "execution_count": 164,
   "metadata": {
    "scrolled": true
   },
   "outputs": [
    {
     "name": "stdout",
     "output_type": "stream",
     "text": [
      "Names: 5000\n",
      "Miles: 5000\n",
      "Transmissions: 5000\n",
      "Drivetrains: 5000\n",
      "Ext_Colors: 5000\n",
      "Int_Colors: 5000\n",
      "Engine_Caps: 5000\n",
      "\n",
      "\n",
      "PRICES: 5000\n"
     ]
    }
   ],
   "source": [
    "#Lengths of scraped lists\n",
    "#FEATURES:\n",
    "print('Names: %s'%len(names))\n",
    "print('Miles: %s'%len(miles))\n",
    "print('Transmissions: %s'%len(transmissions))\n",
    "print('Drivetrains: %s'%len(drivetrains))\n",
    "print('Ext_Colors: %s'%len(ext_colors))\n",
    "print('Int_Colors: %s'%len(int_colors))\n",
    "print('Engine_Caps: %s'%len(engine_caps))\n",
    "\n",
    "#TARGET:\n",
    "print('\\n\\nPRICES: %s'%len(prices))\n"
   ]
  },
  {
   "cell_type": "markdown",
   "metadata": {},
   "source": [
    "#### Everything looks okay. Now it's time to put it all together in one table:"
   ]
  },
  {
   "cell_type": "code",
   "execution_count": 165,
   "metadata": {},
   "outputs": [],
   "source": [
    "#Create DF with the lists of features\n",
    "df = {'NAME': names, 'MILES': miles, 'TRANSMISSION': transmissions, 'DRIVETRAIN': drivetrains\n",
    "      , 'EXT_COLOR': ext_colors, 'INT_COLOR': int_colors, 'ENGINE_CAP': engine_caps, 'PRICE': prices}\n",
    "df = pd.DataFrame(df, columns=df.keys())\n"
   ]
  },
  {
   "cell_type": "code",
   "execution_count": 166,
   "metadata": {},
   "outputs": [
    {
     "data": {
      "text/html": [
       "<div>\n",
       "<style scoped>\n",
       "    .dataframe tbody tr th:only-of-type {\n",
       "        vertical-align: middle;\n",
       "    }\n",
       "\n",
       "    .dataframe tbody tr th {\n",
       "        vertical-align: top;\n",
       "    }\n",
       "\n",
       "    .dataframe thead th {\n",
       "        text-align: right;\n",
       "    }\n",
       "</style>\n",
       "<table border=\"1\" class=\"dataframe\">\n",
       "  <thead>\n",
       "    <tr style=\"text-align: right;\">\n",
       "      <th></th>\n",
       "      <th>NAME</th>\n",
       "      <th>MILES</th>\n",
       "      <th>TRANSMISSION</th>\n",
       "      <th>DRIVETRAIN</th>\n",
       "      <th>EXT_COLOR</th>\n",
       "      <th>INT_COLOR</th>\n",
       "      <th>ENGINE_CAP</th>\n",
       "      <th>PRICE</th>\n",
       "    </tr>\n",
       "  </thead>\n",
       "  <tbody>\n",
       "    <tr>\n",
       "      <th>count</th>\n",
       "      <td>5000</td>\n",
       "      <td>5000</td>\n",
       "      <td>5000</td>\n",
       "      <td>5000</td>\n",
       "      <td>5000</td>\n",
       "      <td>5000</td>\n",
       "      <td>5000</td>\n",
       "      <td>5000</td>\n",
       "    </tr>\n",
       "    <tr>\n",
       "      <th>unique</th>\n",
       "      <td>1208</td>\n",
       "      <td>4755</td>\n",
       "      <td>5</td>\n",
       "      <td>4</td>\n",
       "      <td>13</td>\n",
       "      <td>13</td>\n",
       "      <td>447</td>\n",
       "      <td>3117</td>\n",
       "    </tr>\n",
       "    <tr>\n",
       "      <th>top</th>\n",
       "      <td>2016 Mercedes-Benz E 350 4MATIC</td>\n",
       "      <td>36,096 mi.</td>\n",
       "      <td>Automatic</td>\n",
       "      <td>FWD</td>\n",
       "      <td>Black</td>\n",
       "      <td>Black</td>\n",
       "      <td>Engine: 2.0L I4 16V GDI DOHC Turbo</td>\n",
       "      <td>$18,995</td>\n",
       "    </tr>\n",
       "    <tr>\n",
       "      <th>freq</th>\n",
       "      <td>80</td>\n",
       "      <td>3</td>\n",
       "      <td>3710</td>\n",
       "      <td>2830</td>\n",
       "      <td>1189</td>\n",
       "      <td>2695</td>\n",
       "      <td>495</td>\n",
       "      <td>22</td>\n",
       "    </tr>\n",
       "  </tbody>\n",
       "</table>\n",
       "</div>"
      ],
      "text/plain": [
       "                                   NAME       MILES TRANSMISSION DRIVETRAIN  \\\n",
       "count                              5000        5000         5000       5000   \n",
       "unique                             1208        4755            5          4   \n",
       "top     2016 Mercedes-Benz E 350 4MATIC  36,096 mi.    Automatic        FWD   \n",
       "freq                                 80           3         3710       2830   \n",
       "\n",
       "       EXT_COLOR INT_COLOR                          ENGINE_CAP    PRICE  \n",
       "count       5000      5000                                5000     5000  \n",
       "unique        13        13                                 447     3117  \n",
       "top        Black     Black  Engine: 2.0L I4 16V GDI DOHC Turbo  $18,995  \n",
       "freq        1189      2695                                 495       22  "
      ]
     },
     "execution_count": 166,
     "metadata": {},
     "output_type": "execute_result"
    }
   ],
   "source": [
    "df.describe()"
   ]
  },
  {
   "cell_type": "code",
   "execution_count": 167,
   "metadata": {
    "scrolled": false
   },
   "outputs": [
    {
     "data": {
      "text/html": [
       "<div>\n",
       "<style scoped>\n",
       "    .dataframe tbody tr th:only-of-type {\n",
       "        vertical-align: middle;\n",
       "    }\n",
       "\n",
       "    .dataframe tbody tr th {\n",
       "        vertical-align: top;\n",
       "    }\n",
       "\n",
       "    .dataframe thead th {\n",
       "        text-align: right;\n",
       "    }\n",
       "</style>\n",
       "<table border=\"1\" class=\"dataframe\">\n",
       "  <thead>\n",
       "    <tr style=\"text-align: right;\">\n",
       "      <th></th>\n",
       "      <th>NAME</th>\n",
       "      <th>MILES</th>\n",
       "      <th>TRANSMISSION</th>\n",
       "      <th>DRIVETRAIN</th>\n",
       "      <th>EXT_COLOR</th>\n",
       "      <th>INT_COLOR</th>\n",
       "      <th>ENGINE_CAP</th>\n",
       "      <th>PRICE</th>\n",
       "    </tr>\n",
       "  </thead>\n",
       "  <tbody>\n",
       "    <tr>\n",
       "      <th>0</th>\n",
       "      <td>2015 Audi A4 2.0T Premium</td>\n",
       "      <td>39,810 mi.</td>\n",
       "      <td>CVT</td>\n",
       "      <td>FWD</td>\n",
       "      <td>Black</td>\n",
       "      <td>Black</td>\n",
       "      <td>Engine: 2.0L I4 16V GDI DOHC Turbo</td>\n",
       "      <td>$17,495</td>\n",
       "    </tr>\n",
       "    <tr>\n",
       "      <th>1</th>\n",
       "      <td>2016 Mercedes-Benz E 400 4MATIC</td>\n",
       "      <td>54,713 mi.</td>\n",
       "      <td>Automatic</td>\n",
       "      <td>AWD</td>\n",
       "      <td>Red</td>\n",
       "      <td>Brown</td>\n",
       "      <td>Engine: Twin Turbo Premium Unleaded V-6 3.0 L/183</td>\n",
       "      <td>$34,993</td>\n",
       "    </tr>\n",
       "    <tr>\n",
       "      <th>2</th>\n",
       "      <td>2016 Mercedes-Benz CLA 250</td>\n",
       "      <td>28,029 mi.</td>\n",
       "      <td>Automanual</td>\n",
       "      <td>AWD</td>\n",
       "      <td>White</td>\n",
       "      <td>Black</td>\n",
       "      <td>Engine: Intercooled Turbo Premium Unleaded I-4...</td>\n",
       "      <td>$25,577</td>\n",
       "    </tr>\n",
       "    <tr>\n",
       "      <th>3</th>\n",
       "      <td>2015 Mercedes-Benz CLA 250 4MATIC</td>\n",
       "      <td>28,253 mi.</td>\n",
       "      <td>Automatic</td>\n",
       "      <td>AWD</td>\n",
       "      <td>Black</td>\n",
       "      <td>Black</td>\n",
       "      <td>Engine: 2.0L I4 16V GDI DOHC Turbo Flexible Fuel</td>\n",
       "      <td>$22,000</td>\n",
       "    </tr>\n",
       "    <tr>\n",
       "      <th>4</th>\n",
       "      <td>2016 Honda Accord Touring</td>\n",
       "      <td>36,467 mi.</td>\n",
       "      <td>Automatic</td>\n",
       "      <td>FWD</td>\n",
       "      <td>White</td>\n",
       "      <td>White</td>\n",
       "      <td>Engine: 3.5L V6 24V MPFI SOHC</td>\n",
       "      <td>$23,087</td>\n",
       "    </tr>\n",
       "  </tbody>\n",
       "</table>\n",
       "</div>"
      ],
      "text/plain": [
       "                                NAME       MILES TRANSMISSION DRIVETRAIN  \\\n",
       "0          2015 Audi A4 2.0T Premium  39,810 mi.          CVT        FWD   \n",
       "1    2016 Mercedes-Benz E 400 4MATIC  54,713 mi.    Automatic        AWD   \n",
       "2         2016 Mercedes-Benz CLA 250  28,029 mi.   Automanual        AWD   \n",
       "3  2015 Mercedes-Benz CLA 250 4MATIC  28,253 mi.    Automatic        AWD   \n",
       "4          2016 Honda Accord Touring  36,467 mi.    Automatic        FWD   \n",
       "\n",
       "  EXT_COLOR INT_COLOR                                         ENGINE_CAP  \\\n",
       "0     Black     Black                 Engine: 2.0L I4 16V GDI DOHC Turbo   \n",
       "1       Red     Brown  Engine: Twin Turbo Premium Unleaded V-6 3.0 L/183   \n",
       "2     White     Black  Engine: Intercooled Turbo Premium Unleaded I-4...   \n",
       "3     Black     Black   Engine: 2.0L I4 16V GDI DOHC Turbo Flexible Fuel   \n",
       "4     White     White                      Engine: 3.5L V6 24V MPFI SOHC   \n",
       "\n",
       "     PRICE  \n",
       "0  $17,495  \n",
       "1  $34,993  \n",
       "2  $25,577  \n",
       "3  $22,000  \n",
       "4  $23,087  "
      ]
     },
     "execution_count": 167,
     "metadata": {},
     "output_type": "execute_result"
    }
   ],
   "source": [
    "df.head()"
   ]
  },
  {
   "cell_type": "code",
   "execution_count": 168,
   "metadata": {
    "scrolled": true
   },
   "outputs": [
    {
     "data": {
      "text/plain": [
       "NAME            object\n",
       "MILES           object\n",
       "TRANSMISSION    object\n",
       "DRIVETRAIN      object\n",
       "EXT_COLOR       object\n",
       "INT_COLOR       object\n",
       "ENGINE_CAP      object\n",
       "PRICE           object\n",
       "dtype: object"
      ]
     },
     "execution_count": 168,
     "metadata": {},
     "output_type": "execute_result"
    }
   ],
   "source": [
    "df.dtypes"
   ]
  },
  {
   "cell_type": "markdown",
   "metadata": {},
   "source": [
    "## DATA TRANSFORMATION\n",
    "Before we get into implementing models, we'll have to first make sure all the data is in the right format and data-types. Thus, we begin the no-so-fun process of data transformations:"
   ]
  },
  {
   "cell_type": "code",
   "execution_count": 169,
   "metadata": {},
   "outputs": [],
   "source": [
    "#Check if your transformations worked for all rows using sum(df[<insert feature here>].value_counts())"
   ]
  },
  {
   "cell_type": "code",
   "execution_count": 192,
   "metadata": {},
   "outputs": [],
   "source": [
    "#Create a new df containing the final features\n",
    "df_final = pd.DataFrame()\n",
    "#df_final = pd.read_pickle('df_final.pkl')"
   ]
  },
  {
   "cell_type": "code",
   "execution_count": 171,
   "metadata": {},
   "outputs": [],
   "source": [
    "#Extracting Year and converting it to the right format \n",
    "#We're using int and not datetime because we want the model to understand that 2016<2018 when predicting price\n",
    "df_final['YEAR'] = pd.to_numeric(df['NAME'].str[:4])"
   ]
  },
  {
   "cell_type": "code",
   "execution_count": 172,
   "metadata": {},
   "outputs": [],
   "source": [
    "#Get brand names\n",
    "df_final['BRAND'] = df['NAME'].apply(lambda brand: re.search(r'[A-Za-z-]+', brand)[0])"
   ]
  },
  {
   "cell_type": "code",
   "execution_count": 173,
   "metadata": {},
   "outputs": [],
   "source": [
    "#Format miles and prices to integers\n",
    "df_final['MILES'] = pd.to_numeric(df['MILES'].apply(lambda miles: ''.join(re.findall(r'[0-9]*', miles))))\n",
    "df_final['PRICE'] = pd.to_numeric(df['PRICE'].apply(lambda miles: ''.join(re.findall(r'[0-9]*', miles))))"
   ]
  },
  {
   "cell_type": "code",
   "execution_count": 174,
   "metadata": {},
   "outputs": [],
   "source": [
    "#Following is a function to return engine capacity value as a float\n",
    "def engine_cap(e_c):\n",
    "    if e_c == 'NaN':\n",
    "        #print (e_c)\n",
    "        return ('NaN')\n",
    "    elif re.search(r'[0-9]\\.[0-9 ]*L',e_c) is None:\n",
    "        #print (e_c)\n",
    "        return ('NaN')\n",
    "        \n",
    "    else:\n",
    "        #print(e_c)\n",
    "        #print ((re.search(r'[0-9. ]+L',e_c)[0]).strip()) \n",
    "        temp = ((re.search(r'[0-9]\\.[0-9 ]*L',e_c)[0]).strip())\n",
    "        temp =  temp.replace(' ', '')\n",
    "        return float(temp.replace('L', ''))"
   ]
  },
  {
   "cell_type": "code",
   "execution_count": 175,
   "metadata": {},
   "outputs": [],
   "source": [
    "#We map above function to the original ENGINE_CAP column\n",
    "df_final['ENGINE_CAP'] = df['ENGINE_CAP'].map(engine_cap)"
   ]
  },
  {
   "cell_type": "code",
   "execution_count": 176,
   "metadata": {},
   "outputs": [],
   "source": [
    "#Adding the rest of the features that don't need formatting/transformation\n",
    "df_final[['TRANSMISSION', 'DRIVETRAIN', 'EXT_COLOR', 'INT_COLOR']] = df[['TRANSMISSION', 'DRIVETRAIN'\n",
    "                                                                         , 'EXT_COLOR', 'INT_COLOR']]\n"
   ]
  },
  {
   "cell_type": "code",
   "execution_count": 177,
   "metadata": {},
   "outputs": [],
   "source": [
    "#Converting 'NaN' strings to NoneType\n",
    "df_final.replace('NaN', np.nan, inplace=True)"
   ]
  },
  {
   "cell_type": "code",
   "execution_count": 193,
   "metadata": {
    "scrolled": false
   },
   "outputs": [
    {
     "data": {
      "text/html": [
       "<div>\n",
       "<style scoped>\n",
       "    .dataframe tbody tr th:only-of-type {\n",
       "        vertical-align: middle;\n",
       "    }\n",
       "\n",
       "    .dataframe tbody tr th {\n",
       "        vertical-align: top;\n",
       "    }\n",
       "\n",
       "    .dataframe thead th {\n",
       "        text-align: right;\n",
       "    }\n",
       "</style>\n",
       "<table border=\"1\" class=\"dataframe\">\n",
       "  <thead>\n",
       "    <tr style=\"text-align: right;\">\n",
       "      <th></th>\n",
       "      <th>YEAR</th>\n",
       "      <th>BRAND</th>\n",
       "      <th>MILES</th>\n",
       "      <th>PRICE</th>\n",
       "      <th>ENGINE_CAP</th>\n",
       "      <th>TRANSMISSION</th>\n",
       "      <th>DRIVETRAIN</th>\n",
       "      <th>EXT_COLOR</th>\n",
       "      <th>INT_COLOR</th>\n",
       "    </tr>\n",
       "  </thead>\n",
       "  <tbody>\n",
       "    <tr>\n",
       "      <th>4990</th>\n",
       "      <td>2015</td>\n",
       "      <td>INFINITI</td>\n",
       "      <td>45320</td>\n",
       "      <td>30998</td>\n",
       "      <td>5.6</td>\n",
       "      <td>Automatic</td>\n",
       "      <td>RWD</td>\n",
       "      <td>Gray</td>\n",
       "      <td>Gray</td>\n",
       "    </tr>\n",
       "    <tr>\n",
       "      <th>4991</th>\n",
       "      <td>2018</td>\n",
       "      <td>INFINITI</td>\n",
       "      <td>21151</td>\n",
       "      <td>36588</td>\n",
       "      <td>3.7</td>\n",
       "      <td>Automatic</td>\n",
       "      <td>AWD</td>\n",
       "      <td>Blue</td>\n",
       "      <td>Other</td>\n",
       "    </tr>\n",
       "    <tr>\n",
       "      <th>4992</th>\n",
       "      <td>2015</td>\n",
       "      <td>Volvo</td>\n",
       "      <td>33517</td>\n",
       "      <td>17997</td>\n",
       "      <td>2.0</td>\n",
       "      <td>Automatic</td>\n",
       "      <td>FWD</td>\n",
       "      <td>Blue</td>\n",
       "      <td>Beige</td>\n",
       "    </tr>\n",
       "    <tr>\n",
       "      <th>4993</th>\n",
       "      <td>2016</td>\n",
       "      <td>Nissan</td>\n",
       "      <td>28410</td>\n",
       "      <td>17867</td>\n",
       "      <td>2.5</td>\n",
       "      <td>CVT</td>\n",
       "      <td>FWD</td>\n",
       "      <td>Silver</td>\n",
       "      <td>Gray</td>\n",
       "    </tr>\n",
       "    <tr>\n",
       "      <th>4994</th>\n",
       "      <td>2018</td>\n",
       "      <td>Acura</td>\n",
       "      <td>496</td>\n",
       "      <td>44929</td>\n",
       "      <td>3.5</td>\n",
       "      <td>Automatic</td>\n",
       "      <td>FWD</td>\n",
       "      <td>Black</td>\n",
       "      <td>Black</td>\n",
       "    </tr>\n",
       "    <tr>\n",
       "      <th>4995</th>\n",
       "      <td>2016</td>\n",
       "      <td>BMW</td>\n",
       "      <td>38656</td>\n",
       "      <td>35990</td>\n",
       "      <td>3.0</td>\n",
       "      <td>Automatic</td>\n",
       "      <td>AWD</td>\n",
       "      <td>White</td>\n",
       "      <td>Brown</td>\n",
       "    </tr>\n",
       "    <tr>\n",
       "      <th>4996</th>\n",
       "      <td>2016</td>\n",
       "      <td>BMW</td>\n",
       "      <td>54249</td>\n",
       "      <td>49994</td>\n",
       "      <td>4.4</td>\n",
       "      <td>Automatic</td>\n",
       "      <td>AWD</td>\n",
       "      <td>Gray</td>\n",
       "      <td>Beige</td>\n",
       "    </tr>\n",
       "    <tr>\n",
       "      <th>4997</th>\n",
       "      <td>2015</td>\n",
       "      <td>INFINITI</td>\n",
       "      <td>36399</td>\n",
       "      <td>24988</td>\n",
       "      <td>3.7</td>\n",
       "      <td>Automatic</td>\n",
       "      <td>AWD</td>\n",
       "      <td>Black</td>\n",
       "      <td>Gray</td>\n",
       "    </tr>\n",
       "    <tr>\n",
       "      <th>4998</th>\n",
       "      <td>2018</td>\n",
       "      <td>INFINITI</td>\n",
       "      <td>17904</td>\n",
       "      <td>40988</td>\n",
       "      <td>3.0</td>\n",
       "      <td>Automatic</td>\n",
       "      <td>AWD</td>\n",
       "      <td>White</td>\n",
       "      <td>Other</td>\n",
       "    </tr>\n",
       "    <tr>\n",
       "      <th>4999</th>\n",
       "      <td>2016</td>\n",
       "      <td>BMW</td>\n",
       "      <td>43054</td>\n",
       "      <td>35777</td>\n",
       "      <td>3.0</td>\n",
       "      <td>Automatic</td>\n",
       "      <td>AWD</td>\n",
       "      <td>Black</td>\n",
       "      <td>Black</td>\n",
       "    </tr>\n",
       "  </tbody>\n",
       "</table>\n",
       "</div>"
      ],
      "text/plain": [
       "      YEAR     BRAND  MILES  PRICE  ENGINE_CAP TRANSMISSION DRIVETRAIN  \\\n",
       "4990  2015  INFINITI  45320  30998         5.6    Automatic        RWD   \n",
       "4991  2018  INFINITI  21151  36588         3.7    Automatic        AWD   \n",
       "4992  2015     Volvo  33517  17997         2.0    Automatic        FWD   \n",
       "4993  2016    Nissan  28410  17867         2.5          CVT        FWD   \n",
       "4994  2018     Acura    496  44929         3.5    Automatic        FWD   \n",
       "4995  2016       BMW  38656  35990         3.0    Automatic        AWD   \n",
       "4996  2016       BMW  54249  49994         4.4    Automatic        AWD   \n",
       "4997  2015  INFINITI  36399  24988         3.7    Automatic        AWD   \n",
       "4998  2018  INFINITI  17904  40988         3.0    Automatic        AWD   \n",
       "4999  2016       BMW  43054  35777         3.0    Automatic        AWD   \n",
       "\n",
       "     EXT_COLOR INT_COLOR  \n",
       "4990      Gray      Gray  \n",
       "4991      Blue     Other  \n",
       "4992      Blue     Beige  \n",
       "4993    Silver      Gray  \n",
       "4994     Black     Black  \n",
       "4995     White     Brown  \n",
       "4996      Gray     Beige  \n",
       "4997     Black      Gray  \n",
       "4998     White     Other  \n",
       "4999     Black     Black  "
      ]
     },
     "execution_count": 193,
     "metadata": {},
     "output_type": "execute_result"
    }
   ],
   "source": [
    "df_final.tail(10)"
   ]
  },
  {
   "cell_type": "code",
   "execution_count": 194,
   "metadata": {
    "scrolled": true
   },
   "outputs": [
    {
     "data": {
      "text/plain": [
       "YEAR              int64\n",
       "BRAND            object\n",
       "MILES             int64\n",
       "PRICE             int64\n",
       "ENGINE_CAP      float64\n",
       "TRANSMISSION     object\n",
       "DRIVETRAIN       object\n",
       "EXT_COLOR        object\n",
       "INT_COLOR        object\n",
       "dtype: object"
      ]
     },
     "execution_count": 194,
     "metadata": {},
     "output_type": "execute_result"
    }
   ],
   "source": [
    "df_final.dtypes"
   ]
  },
  {
   "cell_type": "code",
   "execution_count": 195,
   "metadata": {},
   "outputs": [
    {
     "name": "stdout",
     "output_type": "stream",
     "text": [
      "5000\n",
      "5000\n",
      "5000\n",
      "5000\n",
      "4690\n"
     ]
    }
   ],
   "source": [
    "#Check to see if all elements are being transformed properly\n",
    "print(sum(df_final['YEAR'].value_counts()))\n",
    "print(sum(df_final['BRAND'].value_counts()))\n",
    "print(sum(df_final['MILES'].value_counts()))\n",
    "print(sum(df_final['PRICE'].value_counts()))\n",
    "#We'll have fewer engine capacity values because some listings didn't have this data\n",
    "print(sum(df_final['ENGINE_CAP'].value_counts()))"
   ]
  },
  {
   "cell_type": "markdown",
   "metadata": {},
   "source": [
    "## DATA EXPLORATION"
   ]
  },
  {
   "cell_type": "code",
   "execution_count": 197,
   "metadata": {
    "scrolled": false
   },
   "outputs": [
    {
     "data": {
      "image/png": "[encoded data removed]",
      "text/plain": [
       "<Figure size 1080x720 with 20 Axes>"
      ]
     },
     "metadata": {},
     "output_type": "display_data"
    }
   ],
   "source": [
    "sns.pairplot(df_final.dropna(), height=2.5, aspect=1.5);"
   ]
  },
  {
   "cell_type": "markdown",
   "metadata": {},
   "source": [
    "Ugh, it looks like there are no clear linear relationships. This tells us that although the features themselves are important (by logic/domain knowledge) we have to look into polynomial transformations and/or feature interactions to make effective use of them. We'll test this out later."
   ]
  },
  {
   "cell_type": "markdown",
   "metadata": {},
   "source": [
    "#### A look at the most popular brands in our dataset:"
   ]
  },
  {
   "cell_type": "code",
   "execution_count": 198,
   "metadata": {},
   "outputs": [
    {
     "data": {
      "text/plain": [
       "Mercedes-Benz    736\n",
       "Nissan           453\n",
       "BMW              399\n",
       "Lexus            333\n",
       "Honda            329\n",
       "Volkswagen       323\n",
       "Chevrolet        280\n",
       "Ford             253\n",
       "Cadillac         193\n",
       "Toyota           190\n",
       "Audi             183\n",
       "INFINITI         182\n",
       "Kia              157\n",
       "Lincoln          154\n",
       "Mazda            146\n",
       "Acura            138\n",
       "Buick            128\n",
       "Subaru           124\n",
       "Hyundai           84\n",
       "Volvo             69\n",
       "Chrysler          59\n",
       "Dodge             52\n",
       "Maserati          33\n",
       "Bentley            1\n",
       "Mitsubishi         1\n",
       "Name: BRAND, dtype: int64"
      ]
     },
     "execution_count": 198,
     "metadata": {},
     "output_type": "execute_result"
    }
   ],
   "source": [
    "df_final['BRAND'].value_counts()"
   ]
  },
  {
   "cell_type": "markdown",
   "metadata": {},
   "source": [
    "#### A look at the distribution of cars in the dataset by price:"
   ]
  },
  {
   "cell_type": "code",
   "execution_count": 199,
   "metadata": {},
   "outputs": [
    {
     "data": {
      "image/png": "[encoded data removed]",
      "text/plain": [
       "<Figure size 576x396 with 1 Axes>"
      ]
     },
     "metadata": {},
     "output_type": "display_data"
    }
   ],
   "source": [
    "#temp = df_final[(df_final['PRICE']>7000) & (df_final['PRICE']<60000)]\n",
    "plt.hist(df_final['PRICE'], bins=30)\n",
    "plt.xlim(0,60000)\n",
    "plt.title('DISTRIBUTION BY PRICE');"
   ]
  },
  {
   "cell_type": "markdown",
   "metadata": {},
   "source": [
    "Most cars fall under the \\\\$15,000 - \\\\$30,000 price range."
   ]
  },
  {
   "cell_type": "markdown",
   "metadata": {},
   "source": [
    "#### A look at the distribution of cars by year of manufacture:"
   ]
  },
  {
   "cell_type": "code",
   "execution_count": 236,
   "metadata": {
    "scrolled": true
   },
   "outputs": [
    {
     "data": {
      "image/png": "[encoded data removed]",
      "text/plain": [
       "<Figure size 576x396 with 1 Axes>"
      ]
     },
     "metadata": {},
     "output_type": "display_data"
    }
   ],
   "source": [
    "#temp = df_final[(df_final['PRICE']>7000) & (df_final['PRICE']<60000)]\n",
    "plt.hist(df_final['YEAR'], bins = 7)\n",
    "plt.xlim(2013,2019)\n",
    "plt.title('DISTRIBUTION BY YEAR');"
   ]
  },
  {
   "cell_type": "markdown",
   "metadata": {},
   "source": [
    "Most cars being sold are roughly 3 years old."
   ]
  },
  {
   "cell_type": "markdown",
   "metadata": {},
   "source": [
    "#### A look at the distribution of cars by the number of miles on them:"
   ]
  },
  {
   "cell_type": "code",
   "execution_count": 201,
   "metadata": {
    "scrolled": false
   },
   "outputs": [
    {
     "data": {
      "image/png": "[encoded data removed]",
      "text/plain": [
       "<Figure size 576x396 with 1 Axes>"
      ]
     },
     "metadata": {},
     "output_type": "display_data"
    }
   ],
   "source": [
    "#temp = df_final[(df_final['PRICE']>7000) & (df_final['PRICE']<60000)]\n",
    "plt.hist(df_final['MILES'])\n",
    "plt.xlim(0,75000)\n",
    "plt.title('DISTRIBUTION BY MILES');"
   ]
  },
  {
   "cell_type": "markdown",
   "metadata": {},
   "source": [
    "It is interesting to note that there is a sharp drop in the number of cars with miles greater than around 30,000. Upon further investigation, I found that most car leases last 3 years with around 10,000 miles per year and then end up on the used car market after that."
   ]
  },
  {
   "cell_type": "markdown",
   "metadata": {},
   "source": [
    "#### A look at the distribution of cars by engine capacity:"
   ]
  },
  {
   "cell_type": "code",
   "execution_count": 202,
   "metadata": {
    "scrolled": true
   },
   "outputs": [
    {
     "data": {
      "image/png": "[encoded data removed]",
      "text/plain": [
       "<Figure size 576x396 with 1 Axes>"
      ]
     },
     "metadata": {},
     "output_type": "display_data"
    }
   ],
   "source": [
    "#temp = df_final[(df_final['PRICE']>7000) & (df_final['PRICE']<60000)]\n",
    "plt.hist((df_final.dropna()).ENGINE_CAP)\n",
    "plt.xlim(1,5.5)\n",
    "plt.title('DISTRIBUTION BY ENGINE CAPACITY');"
   ]
  },
  {
   "cell_type": "markdown",
   "metadata": {},
   "source": [
    "It is interesting to see two spikes in the above plot. This is because, for the most part, cars are divided into the commuter and the luxury types. The commuter cars come with a similar engine capacity range and the luxury cars follow the same trend (but are more powerful, hence the second spike)."
   ]
  },
  {
   "cell_type": "markdown",
   "metadata": {},
   "source": [
    "#### Now that we have a clean base dataset to work with, it is always recommended to save it to disk in case we want to return to it at a later time. Pickling is a great way to preserve objects as they are in python:"
   ]
  },
  {
   "cell_type": "code",
   "execution_count": 203,
   "metadata": {},
   "outputs": [],
   "source": [
    "#Pickling to save my butt in case the program crashes or something\n",
    "\n",
    "import pickle\n",
    "\n",
    "with open(\"df_final.pkl\", 'wb') as picklefile: \n",
    "     pickle.dump(df_final, picklefile)\n",
    "\n",
    "# with open(\"ultimate_df.pkl\", 'rb') as picklefile: \n",
    "#      Ultimate_DF = pickle.load(picklefile)\n",
    "# with open('data/a_batter_file.pkl', 'rb') as picklefile:\n",
    "#     list_of_all_players.extend(pickle.load(picklefile))"
   ]
  },
  {
   "cell_type": "markdown",
   "metadata": {},
   "source": [
    "## MODEL IMPLEMENTATION"
   ]
  },
  {
   "cell_type": "code",
   "execution_count": 204,
   "metadata": {},
   "outputs": [],
   "source": [
    "#Let's make some copies so we don't mess around with the original data\n",
    "df_model = df_final.copy(deep=True)"
   ]
  },
  {
   "cell_type": "markdown",
   "metadata": {},
   "source": [
    "#### We have to deal with missing values before we can move further. If the number of rows with missing values is small enough, we can just drop them and move on. Let's see how many such rows exist:"
   ]
  },
  {
   "cell_type": "code",
   "execution_count": 205,
   "metadata": {
    "scrolled": true
   },
   "outputs": [
    {
     "data": {
      "text/plain": [
       "310"
      ]
     },
     "execution_count": 205,
     "metadata": {},
     "output_type": "execute_result"
    }
   ],
   "source": [
    "df_model.shape[0] - df_model.dropna().shape[0]"
   ]
  },
  {
   "cell_type": "markdown",
   "metadata": {},
   "source": [
    "It looks like we can afford to simply drop the rows and move on."
   ]
  },
  {
   "cell_type": "code",
   "execution_count": 206,
   "metadata": {},
   "outputs": [],
   "source": [
    "df_model.dropna(inplace=True)"
   ]
  },
  {
   "cell_type": "code",
   "execution_count": 207,
   "metadata": {},
   "outputs": [
    {
     "data": {
      "text/plain": [
       "YEAR              int64\n",
       "BRAND            object\n",
       "MILES             int64\n",
       "PRICE             int64\n",
       "ENGINE_CAP      float64\n",
       "TRANSMISSION     object\n",
       "DRIVETRAIN       object\n",
       "EXT_COLOR        object\n",
       "INT_COLOR        object\n",
       "dtype: object"
      ]
     },
     "execution_count": 207,
     "metadata": {},
     "output_type": "execute_result"
    }
   ],
   "source": [
    "df_model.dtypes"
   ]
  },
  {
   "cell_type": "code",
   "execution_count": 208,
   "metadata": {},
   "outputs": [],
   "source": [
    "df_model_features = df_model[['YEAR', 'MILES', 'BRAND', 'ENGINE_CAP', 'TRANSMISSION'\n",
    "                              , 'DRIVETRAIN', 'EXT_COLOR', 'INT_COLOR']]\n",
    "df_model_target = df_model['PRICE']"
   ]
  },
  {
   "cell_type": "code",
   "execution_count": 209,
   "metadata": {},
   "outputs": [
    {
     "data": {
      "text/plain": [
       "(4690, 9)"
      ]
     },
     "execution_count": 209,
     "metadata": {},
     "output_type": "execute_result"
    }
   ],
   "source": [
    "df_model.shape"
   ]
  },
  {
   "cell_type": "markdown",
   "metadata": {},
   "source": [
    "#### We have to encode the categorical features before we can fit a model. There are multiple ways we can do this. We will use the \"one-hot encoding\" method and simply dummify such features (this creates a new column for each category of each categorical column). Each of these 'dummy' columns will hold a value of 0 or 1.\n",
    "#### More on that here: https://hackernoon.com/what-is-one-hot-encoding-why-and-when-do-you-have-to-use-it-e3c6186d008f"
   ]
  },
  {
   "cell_type": "code",
   "execution_count": 210,
   "metadata": {},
   "outputs": [],
   "source": [
    "df_model_features = pd.DataFrame(pd.get_dummies(df_model_features))"
   ]
  },
  {
   "cell_type": "code",
   "execution_count": 211,
   "metadata": {},
   "outputs": [
    {
     "data": {
      "text/plain": [
       "(4690, 61)"
      ]
     },
     "execution_count": 211,
     "metadata": {},
     "output_type": "execute_result"
    }
   ],
   "source": [
    "df_model_features.shape"
   ]
  },
  {
   "cell_type": "markdown",
   "metadata": {},
   "source": [
    "Note that the number of columns went up drastically because of the encoding."
   ]
  },
  {
   "cell_type": "markdown",
   "metadata": {},
   "source": [
    "#### We will now raise the polynomial degree and compute feature interactions:"
   ]
  },
  {
   "cell_type": "code",
   "execution_count": 212,
   "metadata": {},
   "outputs": [
    {
     "data": {
      "text/plain": [
       "(4690, 1953)"
      ]
     },
     "execution_count": 212,
     "metadata": {},
     "output_type": "execute_result"
    }
   ],
   "source": [
    "p = PolynomialFeatures(degree=2)\n",
    "df_model_features_d2 = p.fit_transform(df_model_features)\n",
    "df_model_features_d2.shape"
   ]
  },
  {
   "cell_type": "markdown",
   "metadata": {},
   "source": [
    "Woah, the number of columns just exploded to such a high value. This is because we raised the polynomial feature and computed every single feature interaction. We will bring this down to a reasonable number a little later."
   ]
  },
  {
   "cell_type": "markdown",
   "metadata": {},
   "source": [
    "#### Let's get all the appropriate feature names:"
   ]
  },
  {
   "cell_type": "code",
   "execution_count": 213,
   "metadata": {},
   "outputs": [
    {
     "data": {
      "text/plain": [
       "1953"
      ]
     },
     "execution_count": 213,
     "metadata": {},
     "output_type": "execute_result"
    }
   ],
   "source": [
    "#Watch out, we're passing the old df here (pre degree-2 transformation)\n",
    "new_columns = p.get_feature_names(df_model_features.columns)\n",
    "len(new_columns)"
   ]
  },
  {
   "cell_type": "code",
   "execution_count": 214,
   "metadata": {},
   "outputs": [
    {
     "data": {
      "text/plain": [
       "numpy.ndarray"
      ]
     },
     "execution_count": 214,
     "metadata": {},
     "output_type": "execute_result"
    }
   ],
   "source": [
    "type(df_model_features_d2)"
   ]
  },
  {
   "cell_type": "markdown",
   "metadata": {},
   "source": [
    "We will now add the new feature names and convert it back to a data frame."
   ]
  },
  {
   "cell_type": "code",
   "execution_count": 215,
   "metadata": {},
   "outputs": [
    {
     "data": {
      "text/plain": [
       "(4690, 1953)"
      ]
     },
     "execution_count": 215,
     "metadata": {},
     "output_type": "execute_result"
    }
   ],
   "source": [
    "df_model_features_d2 = pd.DataFrame(df_model_features_d2, columns = new_columns)\n",
    "df_model_features_d2.shape"
   ]
  },
  {
   "cell_type": "code",
   "execution_count": 216,
   "metadata": {
    "scrolled": true
   },
   "outputs": [
    {
     "data": {
      "text/html": [
       "<div>\n",
       "<style scoped>\n",
       "    .dataframe tbody tr th:only-of-type {\n",
       "        vertical-align: middle;\n",
       "    }\n",
       "\n",
       "    .dataframe tbody tr th {\n",
       "        vertical-align: top;\n",
       "    }\n",
       "\n",
       "    .dataframe thead th {\n",
       "        text-align: right;\n",
       "    }\n",
       "</style>\n",
       "<table border=\"1\" class=\"dataframe\">\n",
       "  <thead>\n",
       "    <tr style=\"text-align: right;\">\n",
       "      <th></th>\n",
       "      <th>1</th>\n",
       "      <th>YEAR</th>\n",
       "      <th>MILES</th>\n",
       "      <th>ENGINE_CAP</th>\n",
       "      <th>BRAND_Acura</th>\n",
       "      <th>BRAND_Audi</th>\n",
       "      <th>BRAND_BMW</th>\n",
       "      <th>BRAND_Bentley</th>\n",
       "      <th>BRAND_Buick</th>\n",
       "      <th>BRAND_Cadillac</th>\n",
       "      <th>...</th>\n",
       "      <th>INT_COLOR_Other^2</th>\n",
       "      <th>INT_COLOR_Other INT_COLOR_Red</th>\n",
       "      <th>INT_COLOR_Other INT_COLOR_Silver</th>\n",
       "      <th>INT_COLOR_Other INT_COLOR_White</th>\n",
       "      <th>INT_COLOR_Red^2</th>\n",
       "      <th>INT_COLOR_Red INT_COLOR_Silver</th>\n",
       "      <th>INT_COLOR_Red INT_COLOR_White</th>\n",
       "      <th>INT_COLOR_Silver^2</th>\n",
       "      <th>INT_COLOR_Silver INT_COLOR_White</th>\n",
       "      <th>INT_COLOR_White^2</th>\n",
       "    </tr>\n",
       "  </thead>\n",
       "  <tbody>\n",
       "    <tr>\n",
       "      <th>0</th>\n",
       "      <td>1.0</td>\n",
       "      <td>2016.0</td>\n",
       "      <td>30830.0</td>\n",
       "      <td>3.5</td>\n",
       "      <td>0.0</td>\n",
       "      <td>0.0</td>\n",
       "      <td>0.0</td>\n",
       "      <td>0.0</td>\n",
       "      <td>0.0</td>\n",
       "      <td>0.0</td>\n",
       "      <td>...</td>\n",
       "      <td>0.0</td>\n",
       "      <td>0.0</td>\n",
       "      <td>0.0</td>\n",
       "      <td>0.0</td>\n",
       "      <td>0.0</td>\n",
       "      <td>0.0</td>\n",
       "      <td>0.0</td>\n",
       "      <td>0.0</td>\n",
       "      <td>0.0</td>\n",
       "      <td>0.0</td>\n",
       "    </tr>\n",
       "    <tr>\n",
       "      <th>1</th>\n",
       "      <td>1.0</td>\n",
       "      <td>2016.0</td>\n",
       "      <td>38096.0</td>\n",
       "      <td>3.6</td>\n",
       "      <td>0.0</td>\n",
       "      <td>0.0</td>\n",
       "      <td>0.0</td>\n",
       "      <td>0.0</td>\n",
       "      <td>0.0</td>\n",
       "      <td>0.0</td>\n",
       "      <td>...</td>\n",
       "      <td>0.0</td>\n",
       "      <td>0.0</td>\n",
       "      <td>0.0</td>\n",
       "      <td>0.0</td>\n",
       "      <td>0.0</td>\n",
       "      <td>0.0</td>\n",
       "      <td>0.0</td>\n",
       "      <td>0.0</td>\n",
       "      <td>0.0</td>\n",
       "      <td>0.0</td>\n",
       "    </tr>\n",
       "    <tr>\n",
       "      <th>2</th>\n",
       "      <td>1.0</td>\n",
       "      <td>2016.0</td>\n",
       "      <td>29492.0</td>\n",
       "      <td>3.5</td>\n",
       "      <td>0.0</td>\n",
       "      <td>0.0</td>\n",
       "      <td>0.0</td>\n",
       "      <td>0.0</td>\n",
       "      <td>0.0</td>\n",
       "      <td>0.0</td>\n",
       "      <td>...</td>\n",
       "      <td>0.0</td>\n",
       "      <td>0.0</td>\n",
       "      <td>0.0</td>\n",
       "      <td>0.0</td>\n",
       "      <td>0.0</td>\n",
       "      <td>0.0</td>\n",
       "      <td>0.0</td>\n",
       "      <td>0.0</td>\n",
       "      <td>0.0</td>\n",
       "      <td>0.0</td>\n",
       "    </tr>\n",
       "    <tr>\n",
       "      <th>3</th>\n",
       "      <td>1.0</td>\n",
       "      <td>2016.0</td>\n",
       "      <td>41203.0</td>\n",
       "      <td>3.5</td>\n",
       "      <td>0.0</td>\n",
       "      <td>0.0</td>\n",
       "      <td>0.0</td>\n",
       "      <td>0.0</td>\n",
       "      <td>0.0</td>\n",
       "      <td>0.0</td>\n",
       "      <td>...</td>\n",
       "      <td>0.0</td>\n",
       "      <td>0.0</td>\n",
       "      <td>0.0</td>\n",
       "      <td>0.0</td>\n",
       "      <td>0.0</td>\n",
       "      <td>0.0</td>\n",
       "      <td>0.0</td>\n",
       "      <td>0.0</td>\n",
       "      <td>0.0</td>\n",
       "      <td>0.0</td>\n",
       "    </tr>\n",
       "    <tr>\n",
       "      <th>4</th>\n",
       "      <td>1.0</td>\n",
       "      <td>2017.0</td>\n",
       "      <td>3081.0</td>\n",
       "      <td>3.6</td>\n",
       "      <td>0.0</td>\n",
       "      <td>0.0</td>\n",
       "      <td>0.0</td>\n",
       "      <td>0.0</td>\n",
       "      <td>0.0</td>\n",
       "      <td>1.0</td>\n",
       "      <td>...</td>\n",
       "      <td>0.0</td>\n",
       "      <td>0.0</td>\n",
       "      <td>0.0</td>\n",
       "      <td>0.0</td>\n",
       "      <td>0.0</td>\n",
       "      <td>0.0</td>\n",
       "      <td>0.0</td>\n",
       "      <td>0.0</td>\n",
       "      <td>0.0</td>\n",
       "      <td>0.0</td>\n",
       "    </tr>\n",
       "  </tbody>\n",
       "</table>\n",
       "<p>5 rows × 1953 columns</p>\n",
       "</div>"
      ],
      "text/plain": [
       "     1    YEAR    MILES  ENGINE_CAP  BRAND_Acura  BRAND_Audi  BRAND_BMW  \\\n",
       "0  1.0  2016.0  30830.0         3.5          0.0         0.0        0.0   \n",
       "1  1.0  2016.0  38096.0         3.6          0.0         0.0        0.0   \n",
       "2  1.0  2016.0  29492.0         3.5          0.0         0.0        0.0   \n",
       "3  1.0  2016.0  41203.0         3.5          0.0         0.0        0.0   \n",
       "4  1.0  2017.0   3081.0         3.6          0.0         0.0        0.0   \n",
       "\n",
       "   BRAND_Bentley  BRAND_Buick  BRAND_Cadillac        ...          \\\n",
       "0            0.0          0.0             0.0        ...           \n",
       "1            0.0          0.0             0.0        ...           \n",
       "2            0.0          0.0             0.0        ...           \n",
       "3            0.0          0.0             0.0        ...           \n",
       "4            0.0          0.0             1.0        ...           \n",
       "\n",
       "   INT_COLOR_Other^2  INT_COLOR_Other INT_COLOR_Red  \\\n",
       "0                0.0                            0.0   \n",
       "1                0.0                            0.0   \n",
       "2                0.0                            0.0   \n",
       "3                0.0                            0.0   \n",
       "4                0.0                            0.0   \n",
       "\n",
       "   INT_COLOR_Other INT_COLOR_Silver  INT_COLOR_Other INT_COLOR_White  \\\n",
       "0                               0.0                              0.0   \n",
       "1                               0.0                              0.0   \n",
       "2                               0.0                              0.0   \n",
       "3                               0.0                              0.0   \n",
       "4                               0.0                              0.0   \n",
       "\n",
       "   INT_COLOR_Red^2  INT_COLOR_Red INT_COLOR_Silver  \\\n",
       "0              0.0                             0.0   \n",
       "1              0.0                             0.0   \n",
       "2              0.0                             0.0   \n",
       "3              0.0                             0.0   \n",
       "4              0.0                             0.0   \n",
       "\n",
       "   INT_COLOR_Red INT_COLOR_White  INT_COLOR_Silver^2  \\\n",
       "0                            0.0                 0.0   \n",
       "1                            0.0                 0.0   \n",
       "2                            0.0                 0.0   \n",
       "3                            0.0                 0.0   \n",
       "4                            0.0                 0.0   \n",
       "\n",
       "   INT_COLOR_Silver INT_COLOR_White  INT_COLOR_White^2  \n",
       "0                               0.0                0.0  \n",
       "1                               0.0                0.0  \n",
       "2                               0.0                0.0  \n",
       "3                               0.0                0.0  \n",
       "4                               0.0                0.0  \n",
       "\n",
       "[5 rows x 1953 columns]"
      ]
     },
     "execution_count": 216,
     "metadata": {},
     "output_type": "execute_result"
    }
   ],
   "source": [
    "df_model_features_d2.head()"
   ]
  },
  {
   "cell_type": "markdown",
   "metadata": {},
   "source": [
    "#### Although we may continue to fitting a model at this point, it is advised to scale our features before doing so:"
   ]
  },
  {
   "cell_type": "code",
   "execution_count": 217,
   "metadata": {},
   "outputs": [],
   "source": [
    "#Scaling features first\n",
    "std = StandardScaler()\n",
    "df_model_features_d2 = pd.DataFrame(std.fit_transform(df_model_features_d2), columns=new_columns)"
   ]
  },
  {
   "cell_type": "markdown",
   "metadata": {},
   "source": [
    "#### We're finally ready to begin modeling (we are going to score on the training set for now). Let's test out some models before we get to reducing the absurd number of features we're dealing with:"
   ]
  },
  {
   "cell_type": "code",
   "execution_count": 238,
   "metadata": {},
   "outputs": [
    {
     "data": {
      "text/plain": [
       "0.8828726004825977"
      ]
     },
     "execution_count": 238,
     "metadata": {},
     "output_type": "execute_result"
    }
   ],
   "source": [
    "m = LinearRegression()\n",
    "m.fit(df_model_features_d2, df_model_target)\n",
    "m.score(df_model_features_d2, df_model_target)"
   ]
  },
  {
   "cell_type": "code",
   "execution_count": 239,
   "metadata": {},
   "outputs": [
    {
     "data": {
      "text/plain": [
       "0.8526405477675314"
      ]
     },
     "execution_count": 239,
     "metadata": {},
     "output_type": "execute_result"
    }
   ],
   "source": [
    "lasso_model = LassoCV()\n",
    "lasso_model.fit(df_model_features_d2, df_model_target)\n",
    "lasso_model.score(df_model_features_d2, df_model_target)"
   ]
  },
  {
   "cell_type": "code",
   "execution_count": 240,
   "metadata": {},
   "outputs": [
    {
     "data": {
      "text/plain": [
       "0.8671477708462859"
      ]
     },
     "execution_count": 240,
     "metadata": {},
     "output_type": "execute_result"
    }
   ],
   "source": [
    "ridge_model = RidgeCV()\n",
    "ridge_model.fit(df_model_features_d2, df_model_target)\n",
    "ridge_model.score(df_model_features_d2, df_model_target)"
   ]
  },
  {
   "cell_type": "markdown",
   "metadata": {},
   "source": [
    "#### We can look at the model coefficients to get the features that are truly making a difference:"
   ]
  },
  {
   "cell_type": "code",
   "execution_count": 241,
   "metadata": {
    "scrolled": true
   },
   "outputs": [
    {
     "name": "stdout",
     "output_type": "stream",
     "text": [
      "There are 325 required columns.\n"
     ]
    }
   ],
   "source": [
    "#required_columns contains the indices of the columns with non-zero coefficients\n",
    "i = 0\n",
    "required_columns = []\n",
    "for index, val in enumerate(lasso_model.coef_):\n",
    "    if val!=0.0:\n",
    "        #print('Index:%s, Value:%s'%(index, val))\n",
    "        required_columns.append(index)\n",
    "        i+=1\n",
    "print('There are',i,'required columns.')"
   ]
  },
  {
   "cell_type": "markdown",
   "metadata": {},
   "source": [
    "#### Now that we have the features we need, let's get rid of the rest:"
   ]
  },
  {
   "cell_type": "code",
   "execution_count": 242,
   "metadata": {},
   "outputs": [],
   "source": [
    "#Filtering out the other columns\n",
    "df_model_features_d2_final = df_model_features_d2[df_model_features_d2.columns[required_columns]]"
   ]
  },
  {
   "cell_type": "code",
   "execution_count": 243,
   "metadata": {
    "scrolled": false
   },
   "outputs": [
    {
     "data": {
      "text/html": [
       "<div>\n",
       "<style scoped>\n",
       "    .dataframe tbody tr th:only-of-type {\n",
       "        vertical-align: middle;\n",
       "    }\n",
       "\n",
       "    .dataframe tbody tr th {\n",
       "        vertical-align: top;\n",
       "    }\n",
       "\n",
       "    .dataframe thead th {\n",
       "        text-align: right;\n",
       "    }\n",
       "</style>\n",
       "<table border=\"1\" class=\"dataframe\">\n",
       "  <thead>\n",
       "    <tr style=\"text-align: right;\">\n",
       "      <th></th>\n",
       "      <th>YEAR</th>\n",
       "      <th>BRAND_Bentley</th>\n",
       "      <th>BRAND_Cadillac</th>\n",
       "      <th>BRAND_Lexus</th>\n",
       "      <th>BRAND_Lincoln</th>\n",
       "      <th>BRAND_Maserati</th>\n",
       "      <th>BRAND_Mitsubishi</th>\n",
       "      <th>BRAND_Nissan</th>\n",
       "      <th>BRAND_Toyota</th>\n",
       "      <th>BRAND_Volvo</th>\n",
       "      <th>...</th>\n",
       "      <th>EXT_COLOR_Other INT_COLOR_Brown</th>\n",
       "      <th>EXT_COLOR_Other INT_COLOR_Other</th>\n",
       "      <th>EXT_COLOR_Other INT_COLOR_White</th>\n",
       "      <th>EXT_COLOR_Purple INT_COLOR_Beige</th>\n",
       "      <th>EXT_COLOR_Silver INT_COLOR_Beige</th>\n",
       "      <th>EXT_COLOR_Silver INT_COLOR_Black</th>\n",
       "      <th>EXT_COLOR_Silver INT_COLOR_Brown</th>\n",
       "      <th>EXT_COLOR_White INT_COLOR_Brown</th>\n",
       "      <th>EXT_COLOR_White INT_COLOR_Orange</th>\n",
       "      <th>EXT_COLOR_White INT_COLOR_White</th>\n",
       "    </tr>\n",
       "  </thead>\n",
       "  <tbody>\n",
       "    <tr>\n",
       "      <th>0</th>\n",
       "      <td>-0.180477</td>\n",
       "      <td>-0.014604</td>\n",
       "      <td>-0.198621</td>\n",
       "      <td>3.676972</td>\n",
       "      <td>-0.179249</td>\n",
       "      <td>-0.084179</td>\n",
       "      <td>-0.014604</td>\n",
       "      <td>-0.317709</td>\n",
       "      <td>-0.191555</td>\n",
       "      <td>-0.11855</td>\n",
       "      <td>...</td>\n",
       "      <td>-0.014604</td>\n",
       "      <td>-0.077498</td>\n",
       "      <td>-0.020655</td>\n",
       "      <td>-0.020655</td>\n",
       "      <td>-0.095059</td>\n",
       "      <td>-0.314445</td>\n",
       "      <td>-0.032669</td>\n",
       "      <td>-0.117622</td>\n",
       "      <td>-0.0253</td>\n",
       "      <td>-0.096194</td>\n",
       "    </tr>\n",
       "    <tr>\n",
       "      <th>1</th>\n",
       "      <td>-0.180477</td>\n",
       "      <td>-0.014604</td>\n",
       "      <td>-0.198621</td>\n",
       "      <td>-0.271963</td>\n",
       "      <td>-0.179249</td>\n",
       "      <td>-0.084179</td>\n",
       "      <td>-0.014604</td>\n",
       "      <td>-0.317709</td>\n",
       "      <td>-0.191555</td>\n",
       "      <td>-0.11855</td>\n",
       "      <td>...</td>\n",
       "      <td>-0.014604</td>\n",
       "      <td>-0.077498</td>\n",
       "      <td>-0.020655</td>\n",
       "      <td>-0.020655</td>\n",
       "      <td>-0.095059</td>\n",
       "      <td>-0.314445</td>\n",
       "      <td>-0.032669</td>\n",
       "      <td>-0.117622</td>\n",
       "      <td>-0.0253</td>\n",
       "      <td>-0.096194</td>\n",
       "    </tr>\n",
       "    <tr>\n",
       "      <th>2</th>\n",
       "      <td>-0.180477</td>\n",
       "      <td>-0.014604</td>\n",
       "      <td>-0.198621</td>\n",
       "      <td>3.676972</td>\n",
       "      <td>-0.179249</td>\n",
       "      <td>-0.084179</td>\n",
       "      <td>-0.014604</td>\n",
       "      <td>-0.317709</td>\n",
       "      <td>-0.191555</td>\n",
       "      <td>-0.11855</td>\n",
       "      <td>...</td>\n",
       "      <td>-0.014604</td>\n",
       "      <td>-0.077498</td>\n",
       "      <td>-0.020655</td>\n",
       "      <td>-0.020655</td>\n",
       "      <td>-0.095059</td>\n",
       "      <td>-0.314445</td>\n",
       "      <td>-0.032669</td>\n",
       "      <td>-0.117622</td>\n",
       "      <td>-0.0253</td>\n",
       "      <td>-0.096194</td>\n",
       "    </tr>\n",
       "    <tr>\n",
       "      <th>3</th>\n",
       "      <td>-0.180477</td>\n",
       "      <td>-0.014604</td>\n",
       "      <td>-0.198621</td>\n",
       "      <td>3.676972</td>\n",
       "      <td>-0.179249</td>\n",
       "      <td>-0.084179</td>\n",
       "      <td>-0.014604</td>\n",
       "      <td>-0.317709</td>\n",
       "      <td>-0.191555</td>\n",
       "      <td>-0.11855</td>\n",
       "      <td>...</td>\n",
       "      <td>-0.014604</td>\n",
       "      <td>-0.077498</td>\n",
       "      <td>-0.020655</td>\n",
       "      <td>-0.020655</td>\n",
       "      <td>-0.095059</td>\n",
       "      <td>-0.314445</td>\n",
       "      <td>-0.032669</td>\n",
       "      <td>-0.117622</td>\n",
       "      <td>-0.0253</td>\n",
       "      <td>-0.096194</td>\n",
       "    </tr>\n",
       "    <tr>\n",
       "      <th>4</th>\n",
       "      <td>0.671929</td>\n",
       "      <td>-0.014604</td>\n",
       "      <td>5.034711</td>\n",
       "      <td>-0.271963</td>\n",
       "      <td>-0.179249</td>\n",
       "      <td>-0.084179</td>\n",
       "      <td>-0.014604</td>\n",
       "      <td>-0.317709</td>\n",
       "      <td>-0.191555</td>\n",
       "      <td>-0.11855</td>\n",
       "      <td>...</td>\n",
       "      <td>-0.014604</td>\n",
       "      <td>-0.077498</td>\n",
       "      <td>-0.020655</td>\n",
       "      <td>-0.020655</td>\n",
       "      <td>-0.095059</td>\n",
       "      <td>-0.314445</td>\n",
       "      <td>-0.032669</td>\n",
       "      <td>-0.117622</td>\n",
       "      <td>-0.0253</td>\n",
       "      <td>-0.096194</td>\n",
       "    </tr>\n",
       "  </tbody>\n",
       "</table>\n",
       "<p>5 rows × 325 columns</p>\n",
       "</div>"
      ],
      "text/plain": [
       "       YEAR  BRAND_Bentley  BRAND_Cadillac  BRAND_Lexus  BRAND_Lincoln  \\\n",
       "0 -0.180477      -0.014604       -0.198621     3.676972      -0.179249   \n",
       "1 -0.180477      -0.014604       -0.198621    -0.271963      -0.179249   \n",
       "2 -0.180477      -0.014604       -0.198621     3.676972      -0.179249   \n",
       "3 -0.180477      -0.014604       -0.198621     3.676972      -0.179249   \n",
       "4  0.671929      -0.014604        5.034711    -0.271963      -0.179249   \n",
       "\n",
       "   BRAND_Maserati  BRAND_Mitsubishi  BRAND_Nissan  BRAND_Toyota  BRAND_Volvo  \\\n",
       "0       -0.084179         -0.014604     -0.317709     -0.191555     -0.11855   \n",
       "1       -0.084179         -0.014604     -0.317709     -0.191555     -0.11855   \n",
       "2       -0.084179         -0.014604     -0.317709     -0.191555     -0.11855   \n",
       "3       -0.084179         -0.014604     -0.317709     -0.191555     -0.11855   \n",
       "4       -0.084179         -0.014604     -0.317709     -0.191555     -0.11855   \n",
       "\n",
       "                ...                 EXT_COLOR_Other INT_COLOR_Brown  \\\n",
       "0               ...                                       -0.014604   \n",
       "1               ...                                       -0.014604   \n",
       "2               ...                                       -0.014604   \n",
       "3               ...                                       -0.014604   \n",
       "4               ...                                       -0.014604   \n",
       "\n",
       "   EXT_COLOR_Other INT_COLOR_Other  EXT_COLOR_Other INT_COLOR_White  \\\n",
       "0                        -0.077498                        -0.020655   \n",
       "1                        -0.077498                        -0.020655   \n",
       "2                        -0.077498                        -0.020655   \n",
       "3                        -0.077498                        -0.020655   \n",
       "4                        -0.077498                        -0.020655   \n",
       "\n",
       "   EXT_COLOR_Purple INT_COLOR_Beige  EXT_COLOR_Silver INT_COLOR_Beige  \\\n",
       "0                         -0.020655                         -0.095059   \n",
       "1                         -0.020655                         -0.095059   \n",
       "2                         -0.020655                         -0.095059   \n",
       "3                         -0.020655                         -0.095059   \n",
       "4                         -0.020655                         -0.095059   \n",
       "\n",
       "   EXT_COLOR_Silver INT_COLOR_Black  EXT_COLOR_Silver INT_COLOR_Brown  \\\n",
       "0                         -0.314445                         -0.032669   \n",
       "1                         -0.314445                         -0.032669   \n",
       "2                         -0.314445                         -0.032669   \n",
       "3                         -0.314445                         -0.032669   \n",
       "4                         -0.314445                         -0.032669   \n",
       "\n",
       "   EXT_COLOR_White INT_COLOR_Brown  EXT_COLOR_White INT_COLOR_Orange  \\\n",
       "0                        -0.117622                           -0.0253   \n",
       "1                        -0.117622                           -0.0253   \n",
       "2                        -0.117622                           -0.0253   \n",
       "3                        -0.117622                           -0.0253   \n",
       "4                        -0.117622                           -0.0253   \n",
       "\n",
       "   EXT_COLOR_White INT_COLOR_White  \n",
       "0                        -0.096194  \n",
       "1                        -0.096194  \n",
       "2                        -0.096194  \n",
       "3                        -0.096194  \n",
       "4                        -0.096194  \n",
       "\n",
       "[5 rows x 325 columns]"
      ]
     },
     "execution_count": 243,
     "metadata": {},
     "output_type": "execute_result"
    }
   ],
   "source": [
    "df_model_features_d2_final.head()"
   ]
  },
  {
   "cell_type": "markdown",
   "metadata": {},
   "source": [
    "It may look like the data doesn't make sense, but that's because we have scaled it for consistency."
   ]
  },
  {
   "cell_type": "code",
   "execution_count": 244,
   "metadata": {
    "scrolled": true
   },
   "outputs": [
    {
     "data": {
      "text/plain": [
       "0.8574714725962475"
      ]
     },
     "execution_count": 244,
     "metadata": {},
     "output_type": "execute_result"
    }
   ],
   "source": [
    "lasso_temp = LassoCV()\n",
    "lasso_temp.fit(df_model_features_d2_final, df_model_target)\n",
    "lasso_temp.score(df_model_features_d2_final, df_model_target)"
   ]
  },
  {
   "cell_type": "markdown",
   "metadata": {},
   "source": [
    "#### Let's do a basic train/test split to see if the performance is consistent (though LassoCV/RidgeCV employs cross-validation, it doesn't hurt to have a holdout set):"
   ]
  },
  {
   "cell_type": "code",
   "execution_count": 245,
   "metadata": {},
   "outputs": [],
   "source": [
    "X_train, X_test, Y_train, Y_test = train_test_split(df_model_features_d2_final, df_model_target\n",
    "                                                    , test_size=0.1, random_state=42)"
   ]
  },
  {
   "cell_type": "code",
   "execution_count": 246,
   "metadata": {},
   "outputs": [
    {
     "name": "stdout",
     "output_type": "stream",
     "text": [
      "(4221, 325)\n",
      "(469, 325)\n",
      "(4221,)\n",
      "(469,)\n"
     ]
    }
   ],
   "source": [
    "print(X_train.shape)\n",
    "print(X_test.shape)\n",
    "print(Y_train.shape)\n",
    "print(Y_test.shape)"
   ]
  },
  {
   "cell_type": "code",
   "execution_count": 247,
   "metadata": {},
   "outputs": [
    {
     "data": {
      "text/plain": [
       "0.870849432206049"
      ]
     },
     "execution_count": 247,
     "metadata": {},
     "output_type": "execute_result"
    }
   ],
   "source": [
    "m_2 = LinearRegression()\n",
    "m_2.fit(X_train, Y_train)\n",
    "m_2.score(X_train, Y_train)"
   ]
  },
  {
   "cell_type": "code",
   "execution_count": 248,
   "metadata": {},
   "outputs": [
    {
     "data": {
      "text/plain": [
       "0.8351887629586059"
      ]
     },
     "execution_count": 248,
     "metadata": {},
     "output_type": "execute_result"
    }
   ],
   "source": [
    "lasso_model_2 = LassoCV()\n",
    "lasso_model_2.fit(X_train, Y_train)\n",
    "lasso_model_2.score(X_test, Y_test)"
   ]
  },
  {
   "cell_type": "code",
   "execution_count": 249,
   "metadata": {},
   "outputs": [
    {
     "data": {
      "text/plain": [
       "0.8375739909489468"
      ]
     },
     "execution_count": 249,
     "metadata": {},
     "output_type": "execute_result"
    }
   ],
   "source": [
    "ridge_model_2 = RidgeCV()\n",
    "ridge_model_2.fit(X_train, Y_train)\n",
    "ridge_model_2.score(X_test, Y_test)"
   ]
  },
  {
   "cell_type": "markdown",
   "metadata": {},
   "source": [
    "The score is expected to fall when we score on test, but the scores look more or less consistent. We can now move on to visualize our results."
   ]
  },
  {
   "cell_type": "markdown",
   "metadata": {},
   "source": [
    "### Now, let's take a moment to interpret our results and the model performance:"
   ]
  },
  {
   "cell_type": "markdown",
   "metadata": {},
   "source": [
    "#### A look at the residuals will tell us how the model is doing for a range of target prices:"
   ]
  },
  {
   "cell_type": "code",
   "execution_count": 250,
   "metadata": {
    "scrolled": false
   },
   "outputs": [
    {
     "data": {
      "image/png": "[encoded data removed]",
      "text/plain": [
       "<Figure size 576x396 with 2 Axes>"
      ]
     },
     "metadata": {},
     "output_type": "display_data"
    }
   ],
   "source": [
    "ridge_model_viz = RidgeCV()\n",
    "visualizer = ResidualsPlot(ridge_model_viz, hist=True)\n",
    "visualizer.fit(X_train, Y_train)\n",
    "visualizer.score(X_test, Y_test)\n",
    "visualizer.poof()\n",
    "\n"
   ]
  },
  {
   "cell_type": "markdown",
   "metadata": {},
   "source": [
    "Although in theory, heteroscedasticity is not a good sign, in practice it is almost always visible. In the above plot, for good predictions, we must ensure that most of the data points are as close as possible to the zero line. As we can see, the greatest density of points is around the zero line and the spread increases as we move towards the more expensive cars. This is because the original dataset has fewer expensive cars as we move up in price and hence fewer data points to train the model with. In such cases, the model is expected to do poorly in such areas."
   ]
  },
  {
   "cell_type": "code",
   "execution_count": 251,
   "metadata": {
    "scrolled": false
   },
   "outputs": [
    {
     "data": {
      "image/png": "[encoded data removed]",
      "text/plain": [
       "<Figure size 576x396 with 1 Axes>"
      ]
     },
     "metadata": {},
     "output_type": "display_data"
    }
   ],
   "source": [
    "sns.distplot((ridge_model_2.predict(X_test)-Y_test), bins=40).set_title('Distribution of Residuals');"
   ]
  },
  {
   "cell_type": "markdown",
   "metadata": {},
   "source": [
    "#### Features that drive (pun intended) up the price the most:"
   ]
  },
  {
   "cell_type": "code",
   "execution_count": 252,
   "metadata": {
    "scrolled": true
   },
   "outputs": [
    {
     "data": {
      "text/html": [
       "<div>\n",
       "<style scoped>\n",
       "    .dataframe tbody tr th:only-of-type {\n",
       "        vertical-align: middle;\n",
       "    }\n",
       "\n",
       "    .dataframe tbody tr th {\n",
       "        vertical-align: top;\n",
       "    }\n",
       "\n",
       "    .dataframe thead th {\n",
       "        text-align: right;\n",
       "    }\n",
       "</style>\n",
       "<table border=\"1\" class=\"dataframe\">\n",
       "  <thead>\n",
       "    <tr style=\"text-align: right;\">\n",
       "      <th></th>\n",
       "      <th>Column_Name</th>\n",
       "      <th>Coefficient</th>\n",
       "    </tr>\n",
       "  </thead>\n",
       "  <tbody>\n",
       "    <tr>\n",
       "      <th>183</th>\n",
       "      <td>ENGINE_CAP^2</td>\n",
       "      <td>4775.300741</td>\n",
       "    </tr>\n",
       "    <tr>\n",
       "      <th>202</th>\n",
       "      <td>ENGINE_CAP BRAND_Mercedes-Benz</td>\n",
       "      <td>4599.222229</td>\n",
       "    </tr>\n",
       "    <tr>\n",
       "      <th>186</th>\n",
       "      <td>ENGINE_CAP BRAND_BMW</td>\n",
       "      <td>4261.374407</td>\n",
       "    </tr>\n",
       "    <tr>\n",
       "      <th>1</th>\n",
       "      <td>YEAR</td>\n",
       "      <td>2407.065822</td>\n",
       "    </tr>\n",
       "    <tr>\n",
       "      <th>20</th>\n",
       "      <td>BRAND_Maserati</td>\n",
       "      <td>1428.566030</td>\n",
       "    </tr>\n",
       "  </tbody>\n",
       "</table>\n",
       "</div>"
      ],
      "text/plain": [
       "                        Column_Name  Coefficient\n",
       "183                    ENGINE_CAP^2  4775.300741\n",
       "202  ENGINE_CAP BRAND_Mercedes-Benz  4599.222229\n",
       "186            ENGINE_CAP BRAND_BMW  4261.374407\n",
       "1                              YEAR  2407.065822\n",
       "20                   BRAND_Maserati  1428.566030"
      ]
     },
     "execution_count": 252,
     "metadata": {},
     "output_type": "execute_result"
    }
   ],
   "source": [
    "#Analyzing most important features\n",
    "pd.DataFrame({'Column_Name': new_columns\n",
    "              , 'Coefficient': lasso_model.coef_}).sort_values(['Coefficient'], ascending=False).head(5)"
   ]
  },
  {
   "cell_type": "markdown",
   "metadata": {},
   "source": [
    "As expected, the more powerful the car, the more expensive it is. Some of the other features that drive the price up are if it is a powerful luxury car, if the manufacture year is more recent or if it is a sports car brand like Maserti."
   ]
  },
  {
   "cell_type": "markdown",
   "metadata": {},
   "source": [
    "#### Similarly, the features that drive the price down:"
   ]
  },
  {
   "cell_type": "code",
   "execution_count": 253,
   "metadata": {},
   "outputs": [
    {
     "data": {
      "text/html": [
       "<div>\n",
       "<style scoped>\n",
       "    .dataframe tbody tr th:only-of-type {\n",
       "        vertical-align: middle;\n",
       "    }\n",
       "\n",
       "    .dataframe tbody tr th {\n",
       "        vertical-align: top;\n",
       "    }\n",
       "\n",
       "    .dataframe thead th {\n",
       "        text-align: right;\n",
       "    }\n",
       "</style>\n",
       "<table border=\"1\" class=\"dataframe\">\n",
       "  <thead>\n",
       "    <tr style=\"text-align: right;\">\n",
       "      <th></th>\n",
       "      <th>Column_Name</th>\n",
       "      <th>Coefficient</th>\n",
       "    </tr>\n",
       "  </thead>\n",
       "  <tbody>\n",
       "    <tr>\n",
       "      <th>35</th>\n",
       "      <td>DRIVETRAIN_FWD</td>\n",
       "      <td>-2464.821136</td>\n",
       "    </tr>\n",
       "    <tr>\n",
       "      <th>143</th>\n",
       "      <td>MILES BRAND_Mercedes-Benz</td>\n",
       "      <td>-1736.885414</td>\n",
       "    </tr>\n",
       "    <tr>\n",
       "      <th>127</th>\n",
       "      <td>MILES BRAND_BMW</td>\n",
       "      <td>-1479.714544</td>\n",
       "    </tr>\n",
       "    <tr>\n",
       "      <th>124</th>\n",
       "      <td>MILES ENGINE_CAP</td>\n",
       "      <td>-1373.612307</td>\n",
       "    </tr>\n",
       "    <tr>\n",
       "      <th>192</th>\n",
       "      <td>ENGINE_CAP BRAND_Dodge</td>\n",
       "      <td>-1272.762751</td>\n",
       "    </tr>\n",
       "  </tbody>\n",
       "</table>\n",
       "</div>"
      ],
      "text/plain": [
       "                   Column_Name  Coefficient\n",
       "35              DRIVETRAIN_FWD -2464.821136\n",
       "143  MILES BRAND_Mercedes-Benz -1736.885414\n",
       "127            MILES BRAND_BMW -1479.714544\n",
       "124           MILES ENGINE_CAP -1373.612307\n",
       "192     ENGINE_CAP BRAND_Dodge -1272.762751"
      ]
     },
     "execution_count": 253,
     "metadata": {},
     "output_type": "execute_result"
    }
   ],
   "source": [
    "pd.DataFrame({'Column_Name': new_columns\n",
    "              , 'Coefficient': lasso_model.coef_}).sort_values(['Coefficient'], ascending=True).head(5)"
   ]
  },
  {
   "cell_type": "markdown",
   "metadata": {},
   "source": [
    "#### Finally, for the lulz, I wrote a piece of code that repeatedly reduces the number of columns as the dataset is trained on a set that contains fewer and fewer columns (Spoiler Alert: We hit the point of diminishing returns real fast):"
   ]
  },
  {
   "cell_type": "code",
   "execution_count": 255,
   "metadata": {
    "scrolled": true
   },
   "outputs": [
    {
     "name": "stdout",
     "output_type": "stream",
     "text": [
      "Run Number: 1\n",
      "Train Shape: (4221, 325)\n",
      "Test Shape: (469, 325)\n",
      "Score:  0.8351887629586059\n",
      "There are 296 required columns.\n",
      "\n",
      "Run Number: 2\n",
      "Train Shape: (4221, 296)\n",
      "Test Shape: (469, 296)\n",
      "Score:  0.8351890197654549\n",
      "There are 294 required columns.\n",
      "\n",
      "Run Number: 3\n",
      "Train Shape: (4221, 294)\n",
      "Test Shape: (469, 294)\n",
      "Score:  0.835189019431776\n",
      "No more columns to drop.\n"
     ]
    }
   ],
   "source": [
    "#Don't bother with this yet\n",
    "xtr = X_train.copy(deep=True)\n",
    "xte = X_test.copy(deep=True)\n",
    "counter = 0\n",
    "no_cols = 1\n",
    "prev_no_cols = 0\n",
    "while no_cols != 0:\n",
    "    counter += 1\n",
    "    print('Run Number:', counter)\n",
    "    print('Train Shape:', xtr.shape)\n",
    "    print('Test Shape:', xte.shape)\n",
    "    las_m = LassoCV()\n",
    "    las_m.fit(xtr, Y_train)\n",
    "    print('Score: ', las_m.score(xte, Y_test))\n",
    "    no_cols = 0\n",
    "    req_columns = []\n",
    "    for index, val in enumerate(las_m.coef_):\n",
    "        if val!=0.0:\n",
    "            #print('Index:%s, Value:%s'%(index, val))\n",
    "            req_columns.append(index)\n",
    "            no_cols+=1\n",
    "    if no_cols == prev_no_cols:\n",
    "        print('No more columns to drop.')\n",
    "        break\n",
    "    prev_no_cols = no_cols\n",
    "    print('There are',no_cols,'required columns.\\n')\n",
    "    xtr = xtr[xtr.columns[req_columns]]\n",
    "    xte = xte[xte.columns[req_columns]]\n",
    "    \n",
    "\n",
    "    \n",
    "    \n",
    "    \n"
   ]
  },
  {
   "cell_type": "markdown",
   "metadata": {},
   "source": [
    "## Future Research:\n",
    "- Try other models and tune using hyperparameters\n",
    "- Build out the extensive dataset using independent filters and expand to include other automobile types \n",
    "- Include data from sources other than www.cars.com\n",
    "- Perform in-depth outlier analysis"
   ]
  },
  {
   "cell_type": "code",
   "execution_count": null,
   "metadata": {},
   "outputs": [],
   "source": []
  }
 ],
 "metadata": {
  "kernelspec": {
   "display_name": "Python 3",
   "language": "python",
   "name": "python3"
  },
  "language_info": {
   "codemirror_mode": {
    "name": "ipython",
    "version": 3
   },
   "file_extension": ".py",
   "mimetype": "text/x-python",
   "name": "python",
   "nbconvert_exporter": "python",
   "pygments_lexer": "ipython3",
   "version": "3.7.1"
  }
 },
 "nbformat": 4,
 "nbformat_minor": 2
}
